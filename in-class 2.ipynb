{
 "cells": [
  {
   "cell_type": "markdown",
   "id": "cdbccb59-02ca-4735-bbec-68dca1e60143",
   "metadata": {
    "tags": []
   },
   "source": [
    "# In-class activity #1"
   ]
  },
  {
   "cell_type": "markdown",
   "id": "34dea046-1a51-410b-8e0d-92e4232ea8fd",
   "metadata": {
    "tags": []
   },
   "source": [
    "#### Group 1: Mia, Shanzeh, Alex, Anika"
   ]
  },
  {
   "cell_type": "markdown",
   "id": "a452df95-0630-4c2d-85aa-b6211b7769ec",
   "metadata": {},
   "source": [
    "This is me trying to operate mardown - let's goooooo"
   ]
  },
  {
   "cell_type": "markdown",
   "id": "5312b0e9-7ca7-45c2-9129-b50b7fbfb8a3",
   "metadata": {},
   "source": [
    "*This is my **practice** code*"
   ]
  },
  {
   "cell_type": "code",
   "execution_count": 8,
   "id": "a71d2397-8454-43ab-8d4c-0d13e3810618",
   "metadata": {
    "tags": []
   },
   "outputs": [
    {
     "data": {
      "text/plain": [
       "0.5"
      ]
     },
     "execution_count": 8,
     "metadata": {},
     "output_type": "execute_result"
    }
   ],
   "source": [
    "(1+2)/6"
   ]
  },
  {
   "cell_type": "markdown",
   "id": "44caee85-704e-4854-8cbf-64eff96aef1e",
   "metadata": {},
   "source": [
    "#### Actual Assignment"
   ]
  },
  {
   "cell_type": "markdown",
   "id": "7e7a33df-97dd-4569-b939-214f4438ec65",
   "metadata": {
    "jp-MarkdownHeadingCollapsed": true,
    "tags": []
   },
   "source": [
    "word | definition & contrast\n",
    "-----|-----------------------\n",
    "temporal code | temporal code is all about representing the TIMING of the action potentials. Different timings of the spikes can encode different features.\n",
    "rate code | Rather than relying on the precise timing of spikes (like temporal coding), rate coding is the FREQUENCY of the action potentials that are fired. The strength of the stimulus can be shown by the intentsity of.  \n",
    "latency code | latency coding is referring the first time spike, so the response depends on when the delay occurs. This is different from temporal coding because it doesn’t matter as much the pattern of when it occurs, just when it occurs in relation to the stimulus. It’s more concerned with the delay between the two.  \n",
    "synchronous code | As the name represents, this type of code has to do with the coordination of different neurons firing together. This is different from the other types of coding because it's combining the responses of mulitple neurons while the other are for a singular neuron.\n",
    "tuning curve | Tuning curves depict the graphical relationship between the input to a neuron (stimulus duration to intensity) to a neurons response. Unlike the others, it can help show with visualizing what is also going INTO the neuron, not just what's coming out. \n",
    "population codes | This is the collective activity of a group of neurons that interact with the same stimulus. Population code is useful for emphasizing that not every neuron will fire in the same exact way. Complex stimuli can also be processed with population codes because of multiple neurons firing together. Rather than showing the synchronization of neurons firing at the same time in synchronous code, a population code shows the collective activity of a group of neurons"
   ]
  },
  {
   "cell_type": "code",
   "execution_count": null,
   "id": "630a51ac-79b4-4eb3-b953-2c0881f2964c",
   "metadata": {},
   "outputs": [],
   "source": []
  }
 ],
 "metadata": {
  "kernelspec": {
   "display_name": "Python 3 (ipykernel)",
   "language": "python",
   "name": "python3"
  },
  "language_info": {
   "codemirror_mode": {
    "name": "ipython",
    "version": 3
   },
   "file_extension": ".py",
   "mimetype": "text/x-python",
   "name": "python",
   "nbconvert_exporter": "python",
   "pygments_lexer": "ipython3",
   "version": "3.11.5"
  }
 },
 "nbformat": 4,
 "nbformat_minor": 5
}
